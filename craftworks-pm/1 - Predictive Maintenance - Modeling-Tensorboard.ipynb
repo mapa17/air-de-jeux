{
 "cells": [
  {
   "cell_type": "markdown",
   "metadata": {},
   "source": [
    "# Model building\n",
    "\n",
    "Try to build a model that is able to predict the machine status."
   ]
  },
  {
   "cell_type": "code",
   "execution_count": 1,
   "metadata": {},
   "outputs": [],
   "source": [
    "import numpy as np\n",
    "import pandas as pd\n",
    "from matplotlib import pyplot as plt\n",
    "import seaborn as sns\n",
    "%matplotlib inline\n",
    "plt.rcParams['figure.figsize'] = [15, 5]\n",
    "\n",
    "from pandas import HDFStore\n",
    "from sklearn.utils import shuffle\n",
    "from sklearn.metrics import classification_report, confusion_matrix"
   ]
  },
  {
   "cell_type": "markdown",
   "metadata": {},
   "source": [
    "## Data\n",
    "The data is already pre processed (resampled, standardized, NAN filtered, split)\n",
    "\n",
    "The independed variable (column 'machine_state') has four states, beeing strongly unvalanced.\n",
    "\n",
    "States:\n",
    "* NORMAL\n",
    "* RECOVERING\n",
    "* FAILING\n",
    "* AFTERMATH\n",
    "* BROKEN"
   ]
  },
  {
   "cell_type": "code",
   "execution_count": 2,
   "metadata": {},
   "outputs": [
    {
     "data": {
      "text/html": [
       "<div>\n",
       "<style scoped>\n",
       "    .dataframe tbody tr th:only-of-type {\n",
       "        vertical-align: middle;\n",
       "    }\n",
       "\n",
       "    .dataframe tbody tr th {\n",
       "        vertical-align: top;\n",
       "    }\n",
       "\n",
       "    .dataframe thead th {\n",
       "        text-align: right;\n",
       "    }\n",
       "</style>\n",
       "<table border=\"1\" class=\"dataframe\">\n",
       "  <thead>\n",
       "    <tr style=\"text-align: right;\">\n",
       "      <th></th>\n",
       "      <th>sensor_00</th>\n",
       "      <th>sensor_01</th>\n",
       "      <th>sensor_02</th>\n",
       "      <th>sensor_03</th>\n",
       "      <th>sensor_04</th>\n",
       "      <th>sensor_05</th>\n",
       "      <th>sensor_06</th>\n",
       "      <th>sensor_07</th>\n",
       "      <th>sensor_08</th>\n",
       "      <th>sensor_09</th>\n",
       "      <th>...</th>\n",
       "      <th>sensor_43</th>\n",
       "      <th>sensor_44</th>\n",
       "      <th>sensor_45</th>\n",
       "      <th>sensor_46</th>\n",
       "      <th>sensor_47</th>\n",
       "      <th>sensor_48</th>\n",
       "      <th>sensor_49</th>\n",
       "      <th>sensor_51</th>\n",
       "      <th>machine_status</th>\n",
       "      <th>hour</th>\n",
       "    </tr>\n",
       "    <tr>\n",
       "      <th>timestamp</th>\n",
       "      <th></th>\n",
       "      <th></th>\n",
       "      <th></th>\n",
       "      <th></th>\n",
       "      <th></th>\n",
       "      <th></th>\n",
       "      <th></th>\n",
       "      <th></th>\n",
       "      <th></th>\n",
       "      <th></th>\n",
       "      <th></th>\n",
       "      <th></th>\n",
       "      <th></th>\n",
       "      <th></th>\n",
       "      <th></th>\n",
       "      <th></th>\n",
       "      <th></th>\n",
       "      <th></th>\n",
       "      <th></th>\n",
       "      <th></th>\n",
       "      <th></th>\n",
       "    </tr>\n",
       "  </thead>\n",
       "  <tbody>\n",
       "    <tr>\n",
       "      <th>2018-04-01 00:00:00</th>\n",
       "      <td>0.311941</td>\n",
       "      <td>0.29487</td>\n",
       "      <td>0.542206</td>\n",
       "      <td>1.16923</td>\n",
       "      <td>0.328643</td>\n",
       "      <td>0.227704</td>\n",
       "      <td>0.231598</td>\n",
       "      <td>0.239513</td>\n",
       "      <td>0.342583</td>\n",
       "      <td>0.210478</td>\n",
       "      <td>...</td>\n",
       "      <td>-0.153986</td>\n",
       "      <td>-0.1089</td>\n",
       "      <td>1.128942</td>\n",
       "      <td>0.442501</td>\n",
       "      <td>-0.386217</td>\n",
       "      <td>1.288269</td>\n",
       "      <td>1.330496</td>\n",
       "      <td>0.331656</td>\n",
       "      <td>NORMAL</td>\n",
       "      <td>0</td>\n",
       "    </tr>\n",
       "    <tr>\n",
       "      <th>2018-04-01 00:05:00</th>\n",
       "      <td>0.311941</td>\n",
       "      <td>0.29487</td>\n",
       "      <td>0.542206</td>\n",
       "      <td>1.16923</td>\n",
       "      <td>0.328643</td>\n",
       "      <td>0.227704</td>\n",
       "      <td>0.231598</td>\n",
       "      <td>0.239513</td>\n",
       "      <td>0.342583</td>\n",
       "      <td>0.210478</td>\n",
       "      <td>...</td>\n",
       "      <td>-0.153986</td>\n",
       "      <td>-0.1089</td>\n",
       "      <td>1.128942</td>\n",
       "      <td>0.442501</td>\n",
       "      <td>-0.386217</td>\n",
       "      <td>1.288269</td>\n",
       "      <td>1.330496</td>\n",
       "      <td>0.331656</td>\n",
       "      <td>NORMAL</td>\n",
       "      <td>0</td>\n",
       "    </tr>\n",
       "    <tr>\n",
       "      <th>2018-04-01 00:10:00</th>\n",
       "      <td>0.311941</td>\n",
       "      <td>0.29487</td>\n",
       "      <td>0.542206</td>\n",
       "      <td>1.16923</td>\n",
       "      <td>0.328643</td>\n",
       "      <td>0.227704</td>\n",
       "      <td>0.231598</td>\n",
       "      <td>0.239513</td>\n",
       "      <td>0.342583</td>\n",
       "      <td>0.210478</td>\n",
       "      <td>...</td>\n",
       "      <td>-0.153986</td>\n",
       "      <td>-0.1089</td>\n",
       "      <td>1.128942</td>\n",
       "      <td>0.442501</td>\n",
       "      <td>-0.386217</td>\n",
       "      <td>1.288269</td>\n",
       "      <td>1.330496</td>\n",
       "      <td>0.331656</td>\n",
       "      <td>NORMAL</td>\n",
       "      <td>0</td>\n",
       "    </tr>\n",
       "    <tr>\n",
       "      <th>2018-04-01 00:15:00</th>\n",
       "      <td>0.311941</td>\n",
       "      <td>0.29487</td>\n",
       "      <td>0.542206</td>\n",
       "      <td>1.16923</td>\n",
       "      <td>0.328643</td>\n",
       "      <td>0.227704</td>\n",
       "      <td>0.231598</td>\n",
       "      <td>0.239513</td>\n",
       "      <td>0.342583</td>\n",
       "      <td>0.210478</td>\n",
       "      <td>...</td>\n",
       "      <td>-0.153986</td>\n",
       "      <td>-0.1089</td>\n",
       "      <td>1.128942</td>\n",
       "      <td>0.442501</td>\n",
       "      <td>-0.386217</td>\n",
       "      <td>1.288269</td>\n",
       "      <td>1.330496</td>\n",
       "      <td>0.331656</td>\n",
       "      <td>NORMAL</td>\n",
       "      <td>0</td>\n",
       "    </tr>\n",
       "    <tr>\n",
       "      <th>2018-04-01 00:20:00</th>\n",
       "      <td>0.311941</td>\n",
       "      <td>0.29487</td>\n",
       "      <td>0.542206</td>\n",
       "      <td>1.16923</td>\n",
       "      <td>0.328643</td>\n",
       "      <td>0.227704</td>\n",
       "      <td>0.231598</td>\n",
       "      <td>0.239513</td>\n",
       "      <td>0.342583</td>\n",
       "      <td>0.210478</td>\n",
       "      <td>...</td>\n",
       "      <td>-0.153986</td>\n",
       "      <td>-0.1089</td>\n",
       "      <td>1.128942</td>\n",
       "      <td>0.442501</td>\n",
       "      <td>-0.386217</td>\n",
       "      <td>1.288269</td>\n",
       "      <td>1.330496</td>\n",
       "      <td>0.331656</td>\n",
       "      <td>NORMAL</td>\n",
       "      <td>0</td>\n",
       "    </tr>\n",
       "  </tbody>\n",
       "</table>\n",
       "<p>5 rows × 52 columns</p>\n",
       "</div>"
      ],
      "text/plain": [
       "                     sensor_00  sensor_01  sensor_02  sensor_03  sensor_04  \\\n",
       "timestamp                                                                    \n",
       "2018-04-01 00:00:00   0.311941    0.29487   0.542206    1.16923   0.328643   \n",
       "2018-04-01 00:05:00   0.311941    0.29487   0.542206    1.16923   0.328643   \n",
       "2018-04-01 00:10:00   0.311941    0.29487   0.542206    1.16923   0.328643   \n",
       "2018-04-01 00:15:00   0.311941    0.29487   0.542206    1.16923   0.328643   \n",
       "2018-04-01 00:20:00   0.311941    0.29487   0.542206    1.16923   0.328643   \n",
       "\n",
       "                     sensor_05  sensor_06  sensor_07  sensor_08  sensor_09  \\\n",
       "timestamp                                                                    \n",
       "2018-04-01 00:00:00   0.227704   0.231598   0.239513   0.342583   0.210478   \n",
       "2018-04-01 00:05:00   0.227704   0.231598   0.239513   0.342583   0.210478   \n",
       "2018-04-01 00:10:00   0.227704   0.231598   0.239513   0.342583   0.210478   \n",
       "2018-04-01 00:15:00   0.227704   0.231598   0.239513   0.342583   0.210478   \n",
       "2018-04-01 00:20:00   0.227704   0.231598   0.239513   0.342583   0.210478   \n",
       "\n",
       "                     ...  sensor_43  sensor_44  sensor_45  sensor_46  \\\n",
       "timestamp            ...                                               \n",
       "2018-04-01 00:00:00  ...  -0.153986    -0.1089   1.128942   0.442501   \n",
       "2018-04-01 00:05:00  ...  -0.153986    -0.1089   1.128942   0.442501   \n",
       "2018-04-01 00:10:00  ...  -0.153986    -0.1089   1.128942   0.442501   \n",
       "2018-04-01 00:15:00  ...  -0.153986    -0.1089   1.128942   0.442501   \n",
       "2018-04-01 00:20:00  ...  -0.153986    -0.1089   1.128942   0.442501   \n",
       "\n",
       "                     sensor_47  sensor_48  sensor_49  sensor_51  \\\n",
       "timestamp                                                         \n",
       "2018-04-01 00:00:00  -0.386217   1.288269   1.330496   0.331656   \n",
       "2018-04-01 00:05:00  -0.386217   1.288269   1.330496   0.331656   \n",
       "2018-04-01 00:10:00  -0.386217   1.288269   1.330496   0.331656   \n",
       "2018-04-01 00:15:00  -0.386217   1.288269   1.330496   0.331656   \n",
       "2018-04-01 00:20:00  -0.386217   1.288269   1.330496   0.331656   \n",
       "\n",
       "                     machine_status  hour  \n",
       "timestamp                                  \n",
       "2018-04-01 00:00:00          NORMAL     0  \n",
       "2018-04-01 00:05:00          NORMAL     0  \n",
       "2018-04-01 00:10:00          NORMAL     0  \n",
       "2018-04-01 00:15:00          NORMAL     0  \n",
       "2018-04-01 00:20:00          NORMAL     0  \n",
       "\n",
       "[5 rows x 52 columns]"
      ]
     },
     "execution_count": 2,
     "metadata": {},
     "output_type": "execute_result"
    }
   ],
   "source": [
    "hdf = HDFStore('data/preprocessed.h5', mode='r')\n",
    "training = hdf['training']\n",
    "validation = hdf['validation']\n",
    "testing = hdf['testing']\n",
    "training.head(5)"
   ]
  },
  {
   "cell_type": "code",
   "execution_count": 3,
   "metadata": {},
   "outputs": [],
   "source": [
    "xColumns = list(training.columns[training.columns.str.contains('sensor_')])\n",
    "xColumns += ['hour']\n",
    "yColumns = 'machine_status'"
   ]
  },
  {
   "cell_type": "code",
   "execution_count": 4,
   "metadata": {},
   "outputs": [],
   "source": [
    "xTrain, yTrain = training[xColumns], training[yColumns]\n",
    "xVal, yVal = validation[xColumns], validation[yColumns]\n",
    "xTest, yTest = testing[xColumns], testing[yColumns]"
   ]
  },
  {
   "cell_type": "code",
   "execution_count": 5,
   "metadata": {},
   "outputs": [
    {
     "data": {
      "text/plain": [
       "(15253, 51)"
      ]
     },
     "execution_count": 5,
     "metadata": {},
     "output_type": "execute_result"
    }
   ],
   "source": [
    "xTest.shape"
   ]
  },
  {
   "cell_type": "code",
   "execution_count": 6,
   "metadata": {},
   "outputs": [
    {
     "data": {
      "text/plain": [
       "(15253,)"
      ]
     },
     "execution_count": 6,
     "metadata": {},
     "output_type": "execute_result"
    }
   ],
   "source": [
    "yTest.shape"
   ]
  },
  {
   "cell_type": "code",
   "execution_count": 7,
   "metadata": {},
   "outputs": [
    {
     "data": {
      "text/html": [
       "<div>\n",
       "<style scoped>\n",
       "    .dataframe tbody tr th:only-of-type {\n",
       "        vertical-align: middle;\n",
       "    }\n",
       "\n",
       "    .dataframe tbody tr th {\n",
       "        vertical-align: top;\n",
       "    }\n",
       "\n",
       "    .dataframe thead th {\n",
       "        text-align: right;\n",
       "    }\n",
       "</style>\n",
       "<table border=\"1\" class=\"dataframe\">\n",
       "  <thead>\n",
       "    <tr style=\"text-align: right;\">\n",
       "      <th></th>\n",
       "      <th>sensor_00</th>\n",
       "      <th>sensor_01</th>\n",
       "      <th>sensor_02</th>\n",
       "      <th>sensor_03</th>\n",
       "      <th>sensor_04</th>\n",
       "      <th>sensor_05</th>\n",
       "      <th>sensor_06</th>\n",
       "      <th>sensor_07</th>\n",
       "      <th>sensor_08</th>\n",
       "      <th>sensor_09</th>\n",
       "      <th>...</th>\n",
       "      <th>sensor_42</th>\n",
       "      <th>sensor_43</th>\n",
       "      <th>sensor_44</th>\n",
       "      <th>sensor_45</th>\n",
       "      <th>sensor_46</th>\n",
       "      <th>sensor_47</th>\n",
       "      <th>sensor_48</th>\n",
       "      <th>sensor_49</th>\n",
       "      <th>sensor_51</th>\n",
       "      <th>hour</th>\n",
       "    </tr>\n",
       "    <tr>\n",
       "      <th>timestamp</th>\n",
       "      <th></th>\n",
       "      <th></th>\n",
       "      <th></th>\n",
       "      <th></th>\n",
       "      <th></th>\n",
       "      <th></th>\n",
       "      <th></th>\n",
       "      <th></th>\n",
       "      <th></th>\n",
       "      <th></th>\n",
       "      <th></th>\n",
       "      <th></th>\n",
       "      <th></th>\n",
       "      <th></th>\n",
       "      <th></th>\n",
       "      <th></th>\n",
       "      <th></th>\n",
       "      <th></th>\n",
       "      <th></th>\n",
       "      <th></th>\n",
       "      <th></th>\n",
       "    </tr>\n",
       "  </thead>\n",
       "  <tbody>\n",
       "    <tr>\n",
       "      <th>2018-04-01 00:00:00</th>\n",
       "      <td>0.311941</td>\n",
       "      <td>0.29487</td>\n",
       "      <td>0.542206</td>\n",
       "      <td>1.16923</td>\n",
       "      <td>0.328643</td>\n",
       "      <td>0.227704</td>\n",
       "      <td>0.231598</td>\n",
       "      <td>0.239513</td>\n",
       "      <td>0.342583</td>\n",
       "      <td>0.210478</td>\n",
       "      <td>...</td>\n",
       "      <td>-0.313809</td>\n",
       "      <td>-0.153986</td>\n",
       "      <td>-0.1089</td>\n",
       "      <td>1.128942</td>\n",
       "      <td>0.442501</td>\n",
       "      <td>-0.386217</td>\n",
       "      <td>1.288269</td>\n",
       "      <td>1.330496</td>\n",
       "      <td>0.331656</td>\n",
       "      <td>0</td>\n",
       "    </tr>\n",
       "    <tr>\n",
       "      <th>2018-04-01 00:05:00</th>\n",
       "      <td>0.311941</td>\n",
       "      <td>0.29487</td>\n",
       "      <td>0.542206</td>\n",
       "      <td>1.16923</td>\n",
       "      <td>0.328643</td>\n",
       "      <td>0.227704</td>\n",
       "      <td>0.231598</td>\n",
       "      <td>0.239513</td>\n",
       "      <td>0.342583</td>\n",
       "      <td>0.210478</td>\n",
       "      <td>...</td>\n",
       "      <td>-0.313809</td>\n",
       "      <td>-0.153986</td>\n",
       "      <td>-0.1089</td>\n",
       "      <td>1.128942</td>\n",
       "      <td>0.442501</td>\n",
       "      <td>-0.386217</td>\n",
       "      <td>1.288269</td>\n",
       "      <td>1.330496</td>\n",
       "      <td>0.331656</td>\n",
       "      <td>0</td>\n",
       "    </tr>\n",
       "    <tr>\n",
       "      <th>2018-04-01 00:10:00</th>\n",
       "      <td>0.311941</td>\n",
       "      <td>0.29487</td>\n",
       "      <td>0.542206</td>\n",
       "      <td>1.16923</td>\n",
       "      <td>0.328643</td>\n",
       "      <td>0.227704</td>\n",
       "      <td>0.231598</td>\n",
       "      <td>0.239513</td>\n",
       "      <td>0.342583</td>\n",
       "      <td>0.210478</td>\n",
       "      <td>...</td>\n",
       "      <td>-0.313809</td>\n",
       "      <td>-0.153986</td>\n",
       "      <td>-0.1089</td>\n",
       "      <td>1.128942</td>\n",
       "      <td>0.442501</td>\n",
       "      <td>-0.386217</td>\n",
       "      <td>1.288269</td>\n",
       "      <td>1.330496</td>\n",
       "      <td>0.331656</td>\n",
       "      <td>0</td>\n",
       "    </tr>\n",
       "    <tr>\n",
       "      <th>2018-04-01 00:15:00</th>\n",
       "      <td>0.311941</td>\n",
       "      <td>0.29487</td>\n",
       "      <td>0.542206</td>\n",
       "      <td>1.16923</td>\n",
       "      <td>0.328643</td>\n",
       "      <td>0.227704</td>\n",
       "      <td>0.231598</td>\n",
       "      <td>0.239513</td>\n",
       "      <td>0.342583</td>\n",
       "      <td>0.210478</td>\n",
       "      <td>...</td>\n",
       "      <td>-0.313809</td>\n",
       "      <td>-0.153986</td>\n",
       "      <td>-0.1089</td>\n",
       "      <td>1.128942</td>\n",
       "      <td>0.442501</td>\n",
       "      <td>-0.386217</td>\n",
       "      <td>1.288269</td>\n",
       "      <td>1.330496</td>\n",
       "      <td>0.331656</td>\n",
       "      <td>0</td>\n",
       "    </tr>\n",
       "    <tr>\n",
       "      <th>2018-04-01 00:20:00</th>\n",
       "      <td>0.311941</td>\n",
       "      <td>0.29487</td>\n",
       "      <td>0.542206</td>\n",
       "      <td>1.16923</td>\n",
       "      <td>0.328643</td>\n",
       "      <td>0.227704</td>\n",
       "      <td>0.231598</td>\n",
       "      <td>0.239513</td>\n",
       "      <td>0.342583</td>\n",
       "      <td>0.210478</td>\n",
       "      <td>...</td>\n",
       "      <td>-0.313809</td>\n",
       "      <td>-0.153986</td>\n",
       "      <td>-0.1089</td>\n",
       "      <td>1.128942</td>\n",
       "      <td>0.442501</td>\n",
       "      <td>-0.386217</td>\n",
       "      <td>1.288269</td>\n",
       "      <td>1.330496</td>\n",
       "      <td>0.331656</td>\n",
       "      <td>0</td>\n",
       "    </tr>\n",
       "  </tbody>\n",
       "</table>\n",
       "<p>5 rows × 51 columns</p>\n",
       "</div>"
      ],
      "text/plain": [
       "                     sensor_00  sensor_01  sensor_02  sensor_03  sensor_04  \\\n",
       "timestamp                                                                    \n",
       "2018-04-01 00:00:00   0.311941    0.29487   0.542206    1.16923   0.328643   \n",
       "2018-04-01 00:05:00   0.311941    0.29487   0.542206    1.16923   0.328643   \n",
       "2018-04-01 00:10:00   0.311941    0.29487   0.542206    1.16923   0.328643   \n",
       "2018-04-01 00:15:00   0.311941    0.29487   0.542206    1.16923   0.328643   \n",
       "2018-04-01 00:20:00   0.311941    0.29487   0.542206    1.16923   0.328643   \n",
       "\n",
       "                     sensor_05  sensor_06  sensor_07  sensor_08  sensor_09  \\\n",
       "timestamp                                                                    \n",
       "2018-04-01 00:00:00   0.227704   0.231598   0.239513   0.342583   0.210478   \n",
       "2018-04-01 00:05:00   0.227704   0.231598   0.239513   0.342583   0.210478   \n",
       "2018-04-01 00:10:00   0.227704   0.231598   0.239513   0.342583   0.210478   \n",
       "2018-04-01 00:15:00   0.227704   0.231598   0.239513   0.342583   0.210478   \n",
       "2018-04-01 00:20:00   0.227704   0.231598   0.239513   0.342583   0.210478   \n",
       "\n",
       "                     ...  sensor_42  sensor_43  sensor_44  sensor_45  \\\n",
       "timestamp            ...                                               \n",
       "2018-04-01 00:00:00  ...  -0.313809  -0.153986    -0.1089   1.128942   \n",
       "2018-04-01 00:05:00  ...  -0.313809  -0.153986    -0.1089   1.128942   \n",
       "2018-04-01 00:10:00  ...  -0.313809  -0.153986    -0.1089   1.128942   \n",
       "2018-04-01 00:15:00  ...  -0.313809  -0.153986    -0.1089   1.128942   \n",
       "2018-04-01 00:20:00  ...  -0.313809  -0.153986    -0.1089   1.128942   \n",
       "\n",
       "                     sensor_46  sensor_47  sensor_48  sensor_49  sensor_51  \\\n",
       "timestamp                                                                    \n",
       "2018-04-01 00:00:00   0.442501  -0.386217   1.288269   1.330496   0.331656   \n",
       "2018-04-01 00:05:00   0.442501  -0.386217   1.288269   1.330496   0.331656   \n",
       "2018-04-01 00:10:00   0.442501  -0.386217   1.288269   1.330496   0.331656   \n",
       "2018-04-01 00:15:00   0.442501  -0.386217   1.288269   1.330496   0.331656   \n",
       "2018-04-01 00:20:00   0.442501  -0.386217   1.288269   1.330496   0.331656   \n",
       "\n",
       "                     hour  \n",
       "timestamp                  \n",
       "2018-04-01 00:00:00     0  \n",
       "2018-04-01 00:05:00     0  \n",
       "2018-04-01 00:10:00     0  \n",
       "2018-04-01 00:15:00     0  \n",
       "2018-04-01 00:20:00     0  \n",
       "\n",
       "[5 rows x 51 columns]"
      ]
     },
     "execution_count": 7,
     "metadata": {},
     "output_type": "execute_result"
    }
   ],
   "source": [
    "xTrain.head(5)"
   ]
  },
  {
   "cell_type": "code",
   "execution_count": 8,
   "metadata": {},
   "outputs": [
    {
     "data": {
      "text/plain": [
       "[NORMAL        16159\n",
       " RECOVERING     1098\n",
       " FAILING         212\n",
       " AFTERMATH        96\n",
       " BROKEN            4\n",
       " Name: machine_status, dtype: int64, NORMAL        9421\n",
       " RECOVERING    1650\n",
       " FAILING        106\n",
       " AFTERMATH       48\n",
       " BROKEN           2\n",
       " Name: machine_status, dtype: int64, NORMAL       15175\n",
       " FAILING         53\n",
       " AFTERMATH       24\n",
       " BROKEN           1\n",
       " Name: machine_status, dtype: int64]"
      ]
     },
     "execution_count": 8,
     "metadata": {},
     "output_type": "execute_result"
    }
   ],
   "source": [
    "[df.value_counts() for df in [yTrain, yVal, yTest]]"
   ]
  },
  {
   "cell_type": "markdown",
   "metadata": {},
   "source": [
    "# 0. Model evaluation toolkit\n",
    "Build a set of tools to evaluate model training progression and performance"
   ]
  },
  {
   "cell_type": "code",
   "execution_count": 9,
   "metadata": {},
   "outputs": [],
   "source": [
    "from sklearn.metrics import precision_score, recall_score, accuracy_score, f1_score\n",
    "\n",
    "def score_results(yTrue, yPred,\n",
    "                  scores = {'precision': precision_score,\n",
    "                      'recall': recall_score,\n",
    "                      'accuracy': accuracy_score,\n",
    "                      'f1': f1_score} ):\n",
    "    return {n: fu(yTrue, yPred) for n, fu in scores.items()}\n",
    "\n",
    "\n",
    "def plot_acc(history, title=\"Model Accuracy\", ax=None):\n",
    "    if ax is None:\n",
    "        fig, ax = plt.subplots(nrows=1, ncols=1)        \n",
    "    ax.plot(history.history['accuracy'])\n",
    "    ax.plot(history.history['val_accuracy'])\n",
    "    ax.set_title(title)\n",
    "    ax.set_ylabel('Accuracy')\n",
    "    ax.set_xlabel('Epoch')\n",
    "    ax.legend(['Train', 'Val'], loc='upper left')\n",
    "    \n",
    "def plot_loss(history, title=\"Model Loss\", ax=None):\n",
    "    if ax is None:\n",
    "        fig, ax = plt.subplots(nrows=1, ncols=1)  \n",
    "    ax.plot(history.history['loss'])\n",
    "    ax.plot(history.history['val_loss'])\n",
    "    ax.set_title(title)\n",
    "    ax.set_ylabel('Loss')\n",
    "    ax.set_xlabel('Epoch')\n",
    "    ax.legend(['Train', 'Val'], loc='upper right')\n",
    "\n",
    "def plot_training(history):\n",
    "    fig, axs = plt.subplots(nrows=1, ncols=2)  \n",
    "    plot_acc(history=history, ax=axs[0])\n",
    "    plot_loss(history=history, ax=axs[1])\n",
    "    fig.suptitle('Training Progress')\n",
    "    \n",
    "    \n",
    "from sklearn.metrics import roc_curve\n",
    "from sklearn.metrics import roc_auc_score\n",
    "from matplotlib import pyplot as plt\n",
    "\n",
    "def plot_ROC(yTest, yPred, ax=None):\n",
    "    ns_probs = [0] * len(yPred)\n",
    "    ns_auc = roc_auc_score(yTest, ns_probs)\n",
    "    pre_auc = roc_auc_score(yTest, yPred)\n",
    "\n",
    "    # calculate roc curves\n",
    "    ns_fpr, ns_tpr, _ = roc_curve(yTest, ns_probs)\n",
    "    lr_fpr, lr_tpr, thrds = roc_curve(yTest, yPred)\n",
    "    \n",
    "    # Calculate metrices\n",
    "    acc = []\n",
    "    prec = []\n",
    "    reca = []\n",
    "    f1 = []\n",
    "    for th in thrds:\n",
    "        tn, fp, fn, tp = confusion_matrix(yTest, yPred > th).ravel()\n",
    "        acc.append((tp+tn)/(tn+fp+fn+tp))\n",
    "        prec.append(tp/(tp+fp))\n",
    "        reca.append(tp/(tp+fn))\n",
    "        f1.append((2*prec[-1]*reca[-1])/(prec[-1]+reca[-1]))\n",
    "    \n",
    "    bThreshold = thrds[np.nanargmax(f1)]\n",
    "    \n",
    "    if ax is None:\n",
    "        fig, ax = plt.subplots(nrows=1, ncols=1)\n",
    "        \n",
    "    # plot the roc curve for the model\n",
    "    ax.plot(ns_fpr, ns_tpr, linestyle='--', label='Random')\n",
    "    ax.plot(lr_fpr, lr_tpr, marker='.', label='Model')\n",
    "    #plt.plot(lr_fpr, acc, marker='o', label='accuracy')\n",
    "    #plt.plot(lr_fpr, f1, marker='o', label='F1')\n",
    "    ax.set_xlabel('False Positive Rate')\n",
    "    ax.set_ylabel('True Positive Rate')\n",
    "    # show the legend\n",
    "    ax.legend()\n",
    "    ax.set_title(\"ROC Curve\\nAUC=%.3f, F1 Peak@Threshold %.3f\" % (pre_auc, bThreshold))\n",
    "        # summarize scores\n",
    "    #print('Random: ROC AUC=%.3f' % (ns_auc))\n",
    "    #print('\\nModel: ROC AUC=%.3f' % (pre_auc))\n",
    "    #print('\\nF1 peak at threshold: %.3f' %(bThreshold))\n",
    "    return pre_auc, bThreshold, (lr_fpr, lr_tpr, f1)\n",
    "\n",
    "\n",
    "def plot_confusion_matrix(yTrue, yPred, title='Confusion matrix', display_labels=['NORMAL', 'FAILING'], cmap=plt.cm.Blues, normalize=False, ax=None):\n",
    "    cm = confusion_matrix(yTrue, yPred)\n",
    "    if normalize:\n",
    "        cm = cm / cm.sum()\n",
    "    if ax is None:\n",
    "        fig, ax = plt.subplots(nrows=1, ncols=1)\n",
    "    else:\n",
    "        fig=ax.get_figure()\n",
    "    ax.imshow(cm, interpolation='nearest', cmap=cmap)\n",
    "    \n",
    "    ax.set_title(title)\n",
    "    #fig.colorbar()\n",
    "    tick_marks = np.arange(len(display_labels))\n",
    "    ax.set_xticks(tick_marks)\n",
    "    ax.set_yticks(tick_marks)\n",
    "    ax.set_xticklabels(display_labels, rotation=45)\n",
    "    ax.set_yticklabels(display_labels)\n",
    "    \n",
    "    for (j,i),label in np.ndenumerate(cm):\n",
    "        ax.text(i,j,cm[i, j],ha='center',va='center')\n",
    "        #ax.text(i-0.0,j-0.25,cm[i, j])\n",
    "    ax.set_ylabel('True label')\n",
    "    ax.set_xlabel('Predicted label')\n",
    "    \n",
    "    fig.tight_layout()\n",
    "    \n",
    "\n",
    "def show_analysis(yTest, yPred):\n",
    "    \"\"\"\n",
    "    Plot a ROC curve, and use the threshold that produces the highest F1 score\n",
    "    to plot a confusion matrix\n",
    "    \"\"\"\n",
    "    fig, axs = plt.subplots(nrows=1, ncols=2)\n",
    "    auc, bT, _ = plot_ROC(yTest, yPred, ax=axs[0])\n",
    "    plot_confusion_matrix(yTest, yPred>bT, ax=axs[1])\n",
    "    \n",
    "def printPrediction(y, pred, thresholds):\n",
    "    from collections import Iterable\n",
    "    if not isinstance(thresholds, Iterable):\n",
    "        thresholds = [thresholds]\n",
    "\n",
    "    figsize=(plt.rcParams['figure.figsize'][0], plt.rcParams['figure.figsize'][1]*len(thresholds))\n",
    "    fig, axs = plt.subplots(nrows=len(thresholds), ncols=1, figsize=figsize)\n",
    "    \n",
    "    for thr, ax in zip(thresholds, axs):\n",
    "        predBinarized = np.ravel((pred > thr)*1.0)\n",
    "        pd.concat([pd.Series(y, name='y'), pd.Series(predBinarized, name='Prediction')], axis=1).plot(alpha=0.5, ax=ax)\n",
    "        ax.set_title(f'Threshold: {thr}')"
   ]
  },
  {
   "cell_type": "markdown",
   "metadata": {
    "slideshow": {
     "slide_type": "-"
    }
   },
   "source": [
    "# 1. Data preprocessing and balancing classes\n",
    "Do a new pre processing where we sample from the normal and the failing data by simply randomly selecting a point in time X and get data from X-N:X."
   ]
  },
  {
   "cell_type": "code",
   "execution_count": 20,
   "metadata": {},
   "outputs": [],
   "source": [
    "from IPython.core.debugger import set_trace as st\n",
    "\n",
    "def sampleByIndex(X, Y, N, state, newYValue, sequence_length='30min', index_masking='30min', seed=42):\n",
    "    \"\"\"\n",
    "    Generate a numpy array containing N sequences sampled the given dataset (X and Y).\n",
    "    \n",
    "    As input only a subset of the data is used for which Y == state.\n",
    "    \n",
    "    Note:\n",
    "    The index_masking is used in order to make sure that sampling is\n",
    "    not trying to generate sequences that go beyond the start of the dataset\n",
    "            \n",
    "    Parameters\n",
    "    ----------\n",
    "    X, Y : pd.Dataframe\n",
    "        The dataframe containing depended and independed variables\n",
    "    state :\n",
    "        Y state of the data to consider\n",
    "    newYValue :\n",
    "        Value of the generated Y data\n",
    "    sequence_length : str\n",
    "        Pandas Timestamp string defining sequence length\n",
    "    index_masking : str\n",
    "        Mask the beginning of the dataset\n",
    "    seed : int\n",
    "        define seed for sampling process\n",
    "\n",
    "    \n",
    "    Returns\n",
    "    -------\n",
    "    np.array : (N, seq_length, nFeatures)\n",
    "        X sequences\n",
    "    np.array : N\n",
    "        Y\n",
    "    \"\"\"\n",
    "    np.random.seed(seed)\n",
    "    Ymasked = Y.loc[Y.index[0] + pd.Timedelta(index_masking):]\n",
    "    Iend = np.random.choice(Ymasked[Ymasked == state].index, N)\n",
    "    # Add one second in order to know hit boundaries which would result in plus one extra element\n",
    "    Istart = Iend - pd.Timedelta(sequence_length) + pd.Timedelta('1sec')\n",
    "    \n",
    "    sequences = []\n",
    "    for start, end in zip(Istart, Iend):\n",
    "        try:\n",
    "            sequences.append(X[start:end].values)\n",
    "        except Exception as e:\n",
    "            print('Some error with %s:%s' % (s, e) )\n",
    "            \n",
    "    sequences = np.array(sequences)\n",
    "    \n",
    "    newY = np.ones(sequences.shape[0]) * newYValue\n",
    "    return sequences, newY\n",
    "\n",
    "\n",
    "\n",
    "def createSequenceWithSampling(X, Y, N, sequence_length, seed=42):\n",
    "    xseq0, yseq0 = sampleByIndex(X, Y, N, 'NORMAL', 0, seed=seed, sequence_length=sequence_length, index_masking=sequence_length)\n",
    "    xseq1, yseq1 = sampleByIndex(X, Y, N, 'FAILING', 1, seed=seed, sequence_length=sequence_length, index_masking=sequence_length)\n",
    "    \n",
    "    xseq = np.concatenate((xseq0, xseq1))\n",
    "    yseq = np.concatenate((yseq0, yseq1))\n",
    "    \n",
    "    xseq = shuffle(xseq, random_state=seed)\n",
    "    yseq = shuffle(yseq, random_state=seed)\n",
    "    \n",
    "    return xseq, yseq\n",
    "\n",
    "\n",
    "def createSubsequences(X : pd.DataFrame, Y: pd.Series, sequence_length : str='30min') -> (np.ndarray, np.ndarray):\n",
    "    \"\"\"\n",
    "    Split the Dataframe X into a numpy.ndarray with subsequences of specific length.\n",
    "    \n",
    "    Parameters\n",
    "    ----------\n",
    "    X : pd.Dataframe\n",
    "        Features\n",
    "    Y : pd.Series\n",
    "        Independed varible\n",
    "    sequence_length : str\n",
    "        Pandas Timestamp string defining sequence length\n",
    "    \n",
    "    Returns\n",
    "    -------\n",
    "    np.array : (<N>, seq_length, nFeatures)\n",
    "        X sequences\n",
    "    np.array : <N>\n",
    "        Y corresponding y value for each subsequence\n",
    "    \"\"\"\n",
    "    # Identify sequence length\n",
    "    N = (X.index < X.index[0]+pd.Timedelta(sequence_length)).sum()\n",
    "\n",
    "    subsequences = []\n",
    "    Xv = X.values\n",
    "    for onset in range(0, Xv.shape[0]-N):\n",
    "        #print(f'{onset}:{onset+N}')\n",
    "        subsequences.append((Xv[onset:onset+N]))\n",
    "            \n",
    "    subsequences = np.array(subsequences)\n",
    "    \n",
    "    newY = Y[N:]\n",
    "    return subsequences, newY"
   ]
  },
  {
   "cell_type": "code",
   "execution_count": 11,
   "metadata": {},
   "outputs": [
    {
     "data": {
      "text/plain": [
       "(35000, 6, 51)"
      ]
     },
     "execution_count": 11,
     "metadata": {},
     "output_type": "execute_result"
    }
   ],
   "source": [
    "SAMPLE_SIZE = 50000\n",
    "TRAINING_R, VALIDATION_R = 0.70, 0.30\n",
    "\n",
    "seqLength = '30min'\n",
    "\n",
    "xTrainSeq, yTrainSeq = createSequenceWithSampling(xTrain, yTrain, int(SAMPLE_SIZE/2 * TRAINING_R), seqLength)\n",
    "xValidSeq, yValidSeq = createSequenceWithSampling(xVal, yVal, int(SAMPLE_SIZE/2 * VALIDATION_R), seqLength)\n",
    "#xTestSeq, yTestSeq = createSequenceWithSampling(xTest, yTest, int(SAMPLE_SIZE/2 * TESTING_R), seqLength)\n",
    "\n",
    "xTrainSeq.shape"
   ]
  },
  {
   "cell_type": "markdown",
   "metadata": {},
   "source": [
    "## Check the repeated sampling sequence frequencies"
   ]
  },
  {
   "cell_type": "code",
   "execution_count": 12,
   "metadata": {},
   "outputs": [],
   "source": [
    "def sequenceCounts(sequences):\n",
    "    seqCnts = {}\n",
    "    for seq in sequences:        \n",
    "        k = hash(seq.tostring())\n",
    "        seqCnts[k] = seqCnts.get(k, 0) + 1\n",
    "    return seqCnts\n",
    "\n",
    "def sampleFrequency(sequences):\n",
    "    seqCnts = sequenceCounts(sequences)\n",
    "    seqCntsValues = list(seqCnts.values())\n",
    "    print(f'# of unique sequences = {len(seqCntsValues)}')\n",
    "    plt.hist(list(seqCnts.values()), density=True, bins=20)"
   ]
  },
  {
   "cell_type": "code",
   "execution_count": 13,
   "metadata": {},
   "outputs": [
    {
     "name": "stdout",
     "output_type": "stream",
     "text": [
      "# of unique sequences = 10637\n"
     ]
    },
    {
     "data": {
      "image/png": "[encoded data removed]",
      "text/plain": [
       "<Figure size 1080x360 with 1 Axes>"
      ]
     },
     "metadata": {
      "needs_background": "light"
     },
     "output_type": "display_data"
    }
   ],
   "source": [
    "sampleFrequency(xTrainSeq[yTrainSeq == 0])"
   ]
  },
  {
   "cell_type": "code",
   "execution_count": 14,
   "metadata": {},
   "outputs": [
    {
     "name": "stdout",
     "output_type": "stream",
     "text": [
      "# of unique sequences = 212\n"
     ]
    },
    {
     "data": {
      "image/png": "[encoded data removed]",
      "text/plain": [
       "<Figure size 1080x360 with 1 Axes>"
      ]
     },
     "metadata": {
      "needs_background": "light"
     },
     "output_type": "display_data"
    }
   ],
   "source": [
    "sampleFrequency(xTrainSeq[yTrainSeq == 1])"
   ]
  },
  {
   "cell_type": "markdown",
   "metadata": {},
   "source": [
    "## Prepare the test data, generating sequences"
   ]
  },
  {
   "cell_type": "code",
   "execution_count": 21,
   "metadata": {},
   "outputs": [],
   "source": [
    "# FAILING: y == 1\n",
    "# Rest: y = 0\n",
    "yTestBin = ((yTest=='FAILING').values).astype(int)\n",
    "xTestSeq, yTestSeq = createSubsequences(xTest, yTestBin, sequence_length=seqLength)"
   ]
  },
  {
   "cell_type": "code",
   "execution_count": 22,
   "metadata": {},
   "outputs": [
    {
     "name": "stdout",
     "output_type": "stream",
     "text": [
      "# of unique sequences = 53\n"
     ]
    },
    {
     "data": {
      "image/png": "[encoded data removed]",
      "text/plain": [
       "<Figure size 1080x360 with 1 Axes>"
      ]
     },
     "metadata": {
      "needs_background": "light"
     },
     "output_type": "display_data"
    }
   ],
   "source": [
    "sampleFrequency(xTestSeq[yTestSeq == 1])"
   ]
  },
  {
   "cell_type": "markdown",
   "metadata": {},
   "source": [
    "# Model"
   ]
  },
  {
   "cell_type": "code",
   "execution_count": 23,
   "metadata": {},
   "outputs": [],
   "source": [
    "import tensorflow as tf\n",
    "from tensorflow import keras\n",
    "\n",
    "from tensorflow.keras.models import Sequential\n",
    "from tensorflow.keras.layers import Dense\n",
    "from tensorflow.keras.layers import LSTM\n",
    "from tensorflow.keras.layers import Dropout\n",
    "from tensorflow.keras.layers import Embedding\n",
    "from tensorflow.keras.preprocessing import sequence\n",
    "from tensorflow.keras.regularizers import l1, l2\n",
    "from tensorflow.keras.callbacks import EarlyStopping\n",
    "\n",
    "# Prepare Tensorboard\n",
    "#%load_ext tensorboard\n",
    "import datetime, os\n",
    "\n",
    "logs_base_dir = \"./tf-logs/\"\n",
    "os.makedirs(logs_base_dir, exist_ok=True)\n",
    "# %tensorboard --logdir {logs_base_dir}"
   ]
  },
  {
   "cell_type": "markdown",
   "metadata": {},
   "source": [
    "# 3.1 LSTM Sequence model\n",
    "Use an LSTM model with a sequence of the sensor values"
   ]
  },
  {
   "cell_type": "raw",
   "metadata": {},
   "source": [
    "#import keras\n",
    "\n",
    "SEQUENCE_LENGTH = xTrainSeq.shape[1]\n",
    "NFEATURES=xTrainSeq.shape[2]\n",
    "\n",
    "dateposfix = datetime.datetime.now().strftime(\"%H:%M:%S@%d-%m-%y\")\n",
    "model_name = 'LSTM-simple'\n",
    "logs_base_dir = f\"./tf-logs/{model_name}-{dateposfix}\"\n",
    "tb_cb = tf.keras.callbacks.TensorBoard(log_dir=logs_base_dir, histogram_freq=1, write_graph=True, write_images=True)"
   ]
  },
  {
   "cell_type": "raw",
   "metadata": {},
   "source": [
    "# From: https://machinelearningmastery.com/how-to-develop-rnn-models-for-human-activity-recognition-time-series-classification/\n",
    "model = Sequential()\n",
    "model.add(LSTM(50, input_shape=(SEQUENCE_LENGTH,NFEATURES)))\n",
    "#model.add(Dropout(0.5))\n",
    "model.add(Dense(20, activation='relu'))\n",
    "model.add(Dense(10, activation='relu'))\n",
    "model.add(Dense(1, activation='sigmoid'))\n",
    "\n",
    "adam = keras.optimizers.Adam(lr=0.001, beta_1=0.9, beta_2=0.999, amsgrad=False)\n",
    "model.compile(loss='binary_crossentropy', optimizer=adam, metrics=['accuracy'])"
   ]
  },
  {
   "cell_type": "raw",
   "metadata": {},
   "source": [
    "%time history = model.fit(xTrainSeq, yTrainSeq, epochs=10, batch_size=64, verbose=1, validation_data=(xValidSeq, yValidSeq), callbacks=[tb_cb])"
   ]
  },
  {
   "cell_type": "raw",
   "metadata": {},
   "source": [
    "plot_training(history)\n",
    "yPred = model.predict(xTestSeq)\n",
    "show_analysis(yTestSeq, yPred)"
   ]
  },
  {
   "cell_type": "markdown",
   "metadata": {},
   "source": [
    "# 3.2 Regularized LSTM\n",
    "\n",
    "Add regularization and early stopping"
   ]
  },
  {
   "cell_type": "raw",
   "metadata": {},
   "source": [
    "model = Sequential()\n",
    "model.add(LSTM(50, input_shape=(SEQUENCE_LENGTH,NFEATURES)))\n",
    "model.add(Dense(20, activation='relu', kernel_regularizer=l2(0.01)))\n",
    "model.add(Dropout(0.5))\n",
    "model.add(Dense(10, activation='relu', kernel_regularizer=l2(0.01)))\n",
    "model.add(Dropout(0.5))\n",
    "model.add(Dense(1, activation='sigmoid', kernel_regularizer=l2(0.01)))\n",
    "\n",
    "adam = keras.optimizers.Adam(lr=0.0005, beta_1=0.9, beta_2=0.999, amsgrad=False)\n",
    "model.compile(loss='binary_crossentropy', optimizer=adam, metrics=['accuracy'])\n",
    "\n",
    "es = EarlyStopping(monitor='val_loss', mode='min', verbose=1, patience=2)\n",
    "\n",
    "dateposfix = datetime.datetime.now().strftime(\"%H:%M:%S@%d-%m-%y\")\n",
    "model_name = 'LSTM-regularized'\n",
    "logs_base_dir = f\"./tf-logs/{model_name}-{dateposfix}\"\n",
    "tb_cb = tf.keras.callbacks.TensorBoard(log_dir=logs_base_dir, histogram_freq=1, write_graph=True, write_images=True)"
   ]
  },
  {
   "cell_type": "raw",
   "metadata": {},
   "source": [
    "%time history = model.fit(xTrainSeq, yTrainSeq, epochs=10, batch_size=64, verbose=1, validation_data=(xValidSeq, yValidSeq), callbacks=[es, tb_cb])"
   ]
  },
  {
   "cell_type": "raw",
   "metadata": {},
   "source": [
    "plot_training(history)\n",
    "yPred = model.predict(xTestSeq)\n",
    "show_analysis(yTestSeq, yPred)"
   ]
  },
  {
   "cell_type": "markdown",
   "metadata": {},
   "source": [
    "# 3.3 Some fancy Convoluation sequence model\n",
    "All stolen from\n",
    "https://machinelearningmastery.com/how-to-develop-rnn-models-for-human-activity-recognition-time-series-classification/"
   ]
  },
  {
   "cell_type": "code",
   "execution_count": 24,
   "metadata": {},
   "outputs": [],
   "source": [
    "from tensorflow.keras.layers import TimeDistributed\n",
    "from tensorflow.keras.layers import Conv1D\n",
    "from tensorflow.keras.layers import MaxPooling1D\n",
    "from tensorflow.keras.layers import Flatten\n",
    "from tensorflow.keras.regularizers import l1\n",
    "\n",
    "from functools import partial\n",
    "\n",
    "regfun = partial(l1, l=10**-2)\n",
    "optimizerfun = partial(keras.optimizers.Adam, learning_rate=0.00003, beta_1=0.85, beta_2=0.999)\n",
    "\n",
    "# define model\n",
    "verbose, epochs, batch_size = 0, 25, 128\n",
    "n_timesteps, n_features, n_outputs = xTrainSeq.shape[1], xTrainSeq.shape[2], yTrainSeq[0]\n",
    "\n",
    "# define model\n",
    "model = Sequential()\n",
    "model.add(Conv1D(filters=32, kernel_size=3, activation='relu', input_shape=(n_timesteps,n_features), activity_regularizer=regfun()))\n",
    "model.add(Conv1D(filters=32, kernel_size=3, activation='relu', activity_regularizer=regfun()))\n",
    "#model.add(Dropout(0.5))\n",
    "model.add(MaxPooling1D(pool_size=2))\n",
    "#model.add(Flatten())\n",
    "model.add(LSTM(100, activity_regularizer=regfun()))\n",
    "#model.add(Dropout(0.5))\n",
    "model.add(Dense(100, activation='relu', activity_regularizer=regfun()))\n",
    "#model.add(Dropout(0.5))\n",
    "model.add(Dense(20, activation='relu', activity_regularizer=regfun()))\n",
    "#model.add(Dropout(0.5))\n",
    "model.add(Dense(1, activation='sigmoid'))\n",
    "model.compile(loss='binary_crossentropy', optimizer=optimizerfun(), metrics=['accuracy'])\n",
    "\n",
    "es = EarlyStopping(monitor='val_loss', mode='min', verbose=1, patience=3)\n",
    "\n",
    "dateposfix = datetime.datetime.now().strftime(\"%H:%M:%S@%d-%m-%y\")\n",
    "model_name = 'CONV-LSTM'\n",
    "logs_base_dir = f\"./tf-logs/{model_name}-{dateposfix}\"\n",
    "tb_cb = tf.keras.callbacks.TensorBoard(log_dir=logs_base_dir, histogram_freq=1, write_graph=True, write_images=True)"
   ]
  },
  {
   "cell_type": "code",
   "execution_count": 25,
   "metadata": {},
   "outputs": [
    {
     "name": "stdout",
     "output_type": "stream",
     "text": [
      "Train on 35000 samples, validate on 15000 samples\n",
      "Epoch 1/50\n",
      "35000/35000 [==============================] - 3s 76us/sample - loss: 2.3081 - accuracy: 0.5230 - val_loss: 2.7795 - val_accuracy: 0.5095\n",
      "Epoch 2/50\n",
      "35000/35000 [==============================] - 1s 28us/sample - loss: 2.1950 - accuracy: 0.5245 - val_loss: 2.6825 - val_accuracy: 0.4444\n",
      "Epoch 3/50\n",
      "35000/35000 [==============================] - 1s 18us/sample - loss: 2.0947 - accuracy: 0.5859 - val_loss: 2.5986 - val_accuracy: 0.3456\n",
      "Epoch 4/50\n",
      "35000/35000 [==============================] - 1s 19us/sample - loss: 2.0049 - accuracy: 0.6769 - val_loss: 2.5226 - val_accuracy: 0.2855\n",
      "Epoch 5/50\n",
      "35000/35000 [==============================] - 1s 18us/sample - loss: 1.9242 - accuracy: 0.7074 - val_loss: 2.4521 - val_accuracy: 0.2876\n",
      "Epoch 6/50\n",
      "35000/35000 [==============================] - 1s 18us/sample - loss: 1.8514 - accuracy: 0.7225 - val_loss: 2.3878 - val_accuracy: 0.2965\n",
      "Epoch 7/50\n",
      "35000/35000 [==============================] - 1s 22us/sample - loss: 1.7848 - accuracy: 0.7378 - val_loss: 2.3297 - val_accuracy: 0.3031\n",
      "Epoch 8/50\n",
      "35000/35000 [==============================] - 1s 24us/sample - loss: 1.7237 - accuracy: 0.7440 - val_loss: 2.2755 - val_accuracy: 0.3019\n",
      "Epoch 9/50\n",
      "35000/35000 [==============================] - 1s 23us/sample - loss: 1.6669 - accuracy: 0.7486 - val_loss: 2.2257 - val_accuracy: 0.2797\n",
      "Epoch 10/50\n",
      "35000/35000 [==============================] - 1s 18us/sample - loss: 1.6136 - accuracy: 0.7602 - val_loss: 2.1796 - val_accuracy: 0.2741\n",
      "Epoch 11/50\n",
      "35000/35000 [==============================] - 1s 18us/sample - loss: 1.5634 - accuracy: 0.7739 - val_loss: 2.1378 - val_accuracy: 0.2272\n",
      "Epoch 12/50\n",
      "35000/35000 [==============================] - 1s 18us/sample - loss: 1.5163 - accuracy: 0.8001 - val_loss: 2.0986 - val_accuracy: 0.2203\n",
      "Epoch 13/50\n",
      "35000/35000 [==============================] - 1s 23us/sample - loss: 1.4722 - accuracy: 0.8306 - val_loss: 2.0620 - val_accuracy: 0.2304\n",
      "Epoch 14/50\n",
      "35000/35000 [==============================] - 1s 21us/sample - loss: 1.4307 - accuracy: 0.8476 - val_loss: 2.0289 - val_accuracy: 0.2365\n",
      "Epoch 15/50\n",
      "35000/35000 [==============================] - 1s 20us/sample - loss: 1.3915 - accuracy: 0.8568 - val_loss: 1.9991 - val_accuracy: 0.2489\n",
      "Epoch 16/50\n",
      "35000/35000 [==============================] - 1s 33us/sample - loss: 1.3539 - accuracy: 0.8634 - val_loss: 1.9731 - val_accuracy: 0.2665\n",
      "Epoch 17/50\n",
      "35000/35000 [==============================] - 1s 32us/sample - loss: 1.3177 - accuracy: 0.8683 - val_loss: 1.9496 - val_accuracy: 0.2787\n",
      "Epoch 18/50\n",
      "35000/35000 [==============================] - 1s 28us/sample - loss: 1.2830 - accuracy: 0.8734 - val_loss: 1.9284 - val_accuracy: 0.2969\n",
      "Epoch 19/50\n",
      "35000/35000 [==============================] - 1s 18us/sample - loss: 1.2495 - accuracy: 0.8812 - val_loss: 1.9088 - val_accuracy: 0.3059\n",
      "Epoch 20/50\n",
      "35000/35000 [==============================] - 1s 23us/sample - loss: 1.2168 - accuracy: 0.8927 - val_loss: 1.8916 - val_accuracy: 0.3187\n",
      "Epoch 21/50\n",
      "35000/35000 [==============================] - 1s 31us/sample - loss: 1.1847 - accuracy: 0.8965 - val_loss: 1.8778 - val_accuracy: 0.3240\n",
      "Epoch 22/50\n",
      "35000/35000 [==============================] - 1s 19us/sample - loss: 1.1527 - accuracy: 0.8999 - val_loss: 1.8679 - val_accuracy: 0.3341\n",
      "Epoch 23/50\n",
      "35000/35000 [==============================] - 1s 17us/sample - loss: 1.1210 - accuracy: 0.9044 - val_loss: 1.8604 - val_accuracy: 0.3455\n",
      "Epoch 24/50\n",
      "35000/35000 [==============================] - 1s 17us/sample - loss: 1.0897 - accuracy: 0.9092 - val_loss: 1.8555 - val_accuracy: 0.3591\n",
      "Epoch 25/50\n",
      "35000/35000 [==============================] - 1s 18us/sample - loss: 1.0584 - accuracy: 0.9139 - val_loss: 1.8534 - val_accuracy: 0.3735\n",
      "Epoch 26/50\n",
      "35000/35000 [==============================] - 1s 17us/sample - loss: 1.0269 - accuracy: 0.9182 - val_loss: 1.8552 - val_accuracy: 0.3987\n",
      "Epoch 27/50\n",
      "35000/35000 [==============================] - 1s 31us/sample - loss: 0.9949 - accuracy: 0.9251 - val_loss: 1.8572 - val_accuracy: 0.4360\n",
      "Epoch 28/50\n",
      "35000/35000 [==============================] - 1s 24us/sample - loss: 0.9624 - accuracy: 0.9343 - val_loss: 1.8604 - val_accuracy: 0.4597\n",
      "Epoch 29/50\n",
      "35000/35000 [==============================] - 1s 24us/sample - loss: 0.9283 - accuracy: 0.9421 - val_loss: 1.8622 - val_accuracy: 0.4800\n",
      "Epoch 30/50\n",
      "35000/35000 [==============================] - 1s 26us/sample - loss: 0.8925 - accuracy: 0.9493 - val_loss: 1.8698 - val_accuracy: 0.4992\n",
      "Epoch 31/50\n",
      "35000/35000 [==============================] - 1s 22us/sample - loss: 0.8575 - accuracy: 0.9585 - val_loss: 1.8788 - val_accuracy: 0.5181\n",
      "Epoch 32/50\n",
      "35000/35000 [==============================] - 1s 27us/sample - loss: 0.8241 - accuracy: 0.9644 - val_loss: 1.8907 - val_accuracy: 0.5312\n",
      "Epoch 33/50\n",
      "35000/35000 [==============================] - 1s 23us/sample - loss: 0.7923 - accuracy: 0.9697 - val_loss: 1.9096 - val_accuracy: 0.5373\n",
      "Epoch 34/50\n",
      "35000/35000 [==============================] - 1s 22us/sample - loss: 0.7624 - accuracy: 0.9735 - val_loss: 1.9341 - val_accuracy: 0.5431\n",
      "Epoch 35/50\n",
      "35000/35000 [==============================] - 1s 21us/sample - loss: 0.7338 - accuracy: 0.9767 - val_loss: 1.9683 - val_accuracy: 0.5496\n",
      "Epoch 36/50\n",
      "35000/35000 [==============================] - 1s 18us/sample - loss: 0.7071 - accuracy: 0.9796 - val_loss: 1.9993 - val_accuracy: 0.5533\n",
      "Epoch 37/50\n",
      "35000/35000 [==============================] - 1s 28us/sample - loss: 0.6823 - accuracy: 0.9821 - val_loss: 2.0289 - val_accuracy: 0.5565\n",
      "Epoch 38/50\n",
      "35000/35000 [==============================] - 1s 23us/sample - loss: 0.6593 - accuracy: 0.9840 - val_loss: 2.0552 - val_accuracy: 0.5597\n",
      "Epoch 39/50\n",
      "35000/35000 [==============================] - 1s 21us/sample - loss: 0.6381 - accuracy: 0.9855 - val_loss: 2.0745 - val_accuracy: 0.5666\n",
      "Epoch 40/50\n",
      "35000/35000 [==============================] - 1s 19us/sample - loss: 0.6184 - accuracy: 0.9878 - val_loss: 2.0850 - val_accuracy: 0.5653\n",
      "Epoch 41/50\n",
      "35000/35000 [==============================] - 1s 18us/sample - loss: 0.6001 - accuracy: 0.9882 - val_loss: 2.0994 - val_accuracy: 0.5678\n",
      "Epoch 42/50\n",
      "35000/35000 [==============================] - 1s 18us/sample - loss: 0.5830 - accuracy: 0.9896 - val_loss: 2.1092 - val_accuracy: 0.5667\n",
      "Epoch 43/50\n",
      "35000/35000 [==============================] - 1s 18us/sample - loss: 0.5671 - accuracy: 0.9902 - val_loss: 2.1155 - val_accuracy: 0.5665\n",
      "Epoch 44/50\n",
      "35000/35000 [==============================] - 1s 18us/sample - loss: 0.5523 - accuracy: 0.9909 - val_loss: 2.1152 - val_accuracy: 0.5651\n",
      "Epoch 45/50\n",
      "35000/35000 [==============================] - 1s 17us/sample - loss: 0.5383 - accuracy: 0.9911 - val_loss: 2.1169 - val_accuracy: 0.5729\n",
      "Epoch 46/50\n",
      "35000/35000 [==============================] - 1s 18us/sample - loss: 0.5251 - accuracy: 0.9918 - val_loss: 2.1107 - val_accuracy: 0.5789\n",
      "Epoch 47/50\n",
      "35000/35000 [==============================] - 1s 17us/sample - loss: 0.5124 - accuracy: 0.9923 - val_loss: 2.0997 - val_accuracy: 0.5785\n",
      "Epoch 48/50\n",
      "35000/35000 [==============================] - 1s 18us/sample - loss: 0.5004 - accuracy: 0.9927 - val_loss: 2.0835 - val_accuracy: 0.5783\n",
      "Epoch 49/50\n",
      "35000/35000 [==============================] - 1s 17us/sample - loss: 0.4889 - accuracy: 0.9930 - val_loss: 2.0719 - val_accuracy: 0.5799\n",
      "Epoch 50/50\n",
      "35000/35000 [==============================] - 1s 17us/sample - loss: 0.4781 - accuracy: 0.9933 - val_loss: 2.0559 - val_accuracy: 0.5839\n",
      "CPU times: user 1min 25s, sys: 48.6 s, total: 2min 13s\n",
      "Wall time: 39.4 s\n"
     ]
    }
   ],
   "source": [
    "%time history = model.fit(xTrainSeq, yTrainSeq, epochs=50, batch_size=1024, verbose=1, validation_data=(xValidSeq, yValidSeq), callbacks=[tb_cb])"
   ]
  },
  {
   "cell_type": "code",
   "execution_count": 26,
   "metadata": {},
   "outputs": [
    {
     "name": "stderr",
     "output_type": "stream",
     "text": [
      "/opt/miniconda3/envs/tf/lib/python3.7/site-packages/ipykernel_launcher.py:59: RuntimeWarning: invalid value encountered in long_scalars\n",
      "/opt/miniconda3/envs/tf/lib/python3.7/site-packages/ipykernel_launcher.py:61: RuntimeWarning: invalid value encountered in double_scalars\n"
     ]
    },
    {
     "data": {
      "image/png": "[encoded data removed]",
      "text/plain": [
       "<Figure size 1080x360 with 2 Axes>"
      ]
     },
     "metadata": {
      "needs_background": "light"
     },
     "output_type": "display_data"
    },
    {
     "data": {
      "image/png": "[encoded data removed]",
      "text/plain": [
       "<Figure size 1080x360 with 2 Axes>"
      ]
     },
     "metadata": {
      "needs_background": "light"
     },
     "output_type": "display_data"
    }
   ],
   "source": [
    "plot_training(history)\n",
    "yPred = model.predict(xTestSeq)\n",
    "show_analysis(yTestSeq, yPred)"
   ]
  },
  {
   "cell_type": "code",
   "execution_count": 27,
   "metadata": {},
   "outputs": [],
   "source": [
    "predSeq = model.predict(xTestSeq)"
   ]
  },
  {
   "cell_type": "code",
   "execution_count": 29,
   "metadata": {},
   "outputs": [
    {
     "data": {
      "image/png": "[encoded data removed]",
      "text/plain": [
       "<Figure size 1080x1440 with 4 Axes>"
      ]
     },
     "metadata": {
      "needs_background": "light"
     },
     "output_type": "display_data"
    }
   ],
   "source": [
    "printPrediction(yTestSeq, predSeq, [0.23, 0.5, 0.7, 0.9])"
   ]
  },
  {
   "cell_type": "code",
   "execution_count": null,
   "metadata": {},
   "outputs": [],
   "source": []
  }
 ],
 "metadata": {
  "kernelspec": {
   "display_name": "Python 3",
   "language": "python",
   "name": "python3"
  },
  "language_info": {
   "codemirror_mode": {
    "name": "ipython",
    "version": 3
   },
   "file_extension": ".py",
   "mimetype": "text/x-python",
   "name": "python",
   "nbconvert_exporter": "python",
   "pygments_lexer": "ipython3",
   "version": "3.7.6"
  }
 },
 "nbformat": 4,
 "nbformat_minor": 2
}
